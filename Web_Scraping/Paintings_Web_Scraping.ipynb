{
 "cells": [
  {
   "cell_type": "code",
   "execution_count": null,
   "metadata": {},
   "outputs": [],
   "source": [
    "import requests, json\n",
    "from bs4 import BeautifulSoup\n",
    "r = requests.get('https://www.topofart.com/top-100-art-reproductions.php/-96')\n",
    "soup = BeautifulSoup(r.content, 'lxml')\n",
    "ert = soup.find_all('div', attrs = {'class' : 'col-lr-3 col-md-3 col-sm-6 col-xs-12'})\n",
    "\n",
    "for picture in ert:\n",
    "    #print(picture.h3.text)\n",
    "    #print(picture.find('div',attrs = {'class' : 'product-price-h'}).text)\n",
    "    #deneme = picture.find('div',attrs = {'class': 'product-body'}).text\n",
    "    #print(deneme)\n",
    "    #print('Picture Name: {}\\nPicture Price: {}\\n '.format(picture.h3.text, picture.find('div',attrs = {'class' : 'product-price-h'}).text))\n",
    "    #print(picture.find('div',attrs = {'class': 'product-category'}).text)\n",
    "    #print(picture.find('h3',attrs = {'class': 'artist-name2'}).text)"
   ]
  },
  {
   "cell_type": "code",
   "execution_count": null,
   "metadata": {},
   "outputs": [],
   "source": [
    "with open('alev_dictionary.csv', mode = 'w') as paintings_compare:\n",
    "         new_result = csv.writer(paintings_compare, delimiter = ',', quotechar='\"', quoting=csv.QUOTE_MINIMAL)\n",
    "         new_result.writerow(['Painting_name: ', picture.h3.text, 'Painting_price: ', picture.find('div',attrs = {'class' : 'product-price-h'}).text])\n",
    "paintings_compare.close() "
   ]
  },
  {
   "cell_type": "code",
   "execution_count": null,
   "metadata": {},
   "outputs": [],
   "source": [
    "a_file = open('sample.csv', 'w')\n",
    "a_dict = {'paintings_name': picture.h3.text, 'paintings_price': picture.find('div',attrs = {'class' : 'product-price-h'}).text}\n",
    "writer = csv.writer(a_file)\n",
    "for key, value in a_dict.items():\n",
    "    writer.writerow([key, value])\n",
    "\n",
    "a_file.close()"
   ]
  }
 ],
 "metadata": {
  "kernelspec": {
   "display_name": "Python 3",
   "language": "python",
   "name": "python3"
  },
  "language_info": {
   "codemirror_mode": {
    "name": "ipython",
    "version": 3
   },
   "file_extension": ".py",
   "mimetype": "text/x-python",
   "name": "python",
   "nbconvert_exporter": "python",
   "pygments_lexer": "ipython3",
   "version": "3.8.5"
  }
 },
 "nbformat": 4,
 "nbformat_minor": 4
}
