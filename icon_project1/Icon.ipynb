{
 "cells": [
  {
   "cell_type": "code",
   "execution_count": 1,
   "metadata": {},
   "outputs": [],
   "source": [
    "k1 = [0,0,0,0,0,0,0,0,0,0]\n",
    "k2 = [0,0,0,1,1,1,1,0,0,0]\n",
    "k3 = [0,0,1,0,0,0,0,1,0,0]\n",
    "k4 = [0,0,1,0,1,1,0,1,0,0]\n",
    "k5 = [0,0,1,0,0,0,0,1,0,0]\n",
    "k6 = [0,0,1,1,0,0,1,1,0,0]\n",
    "k7 = [0,0,0,1,1,1,1,0,0,0]\n",
    "k8 = [0,0,1,0,0,0,0,1,0,0]\n",
    "k9 = [0,0,0,1,1,1,1,0,0,0]\n",
    "k10 = [0,0,0,0,0,0,0,0,0,0]"
   ]
  },
  {
   "cell_type": "code",
   "execution_count": 2,
   "metadata": {},
   "outputs": [],
   "source": [
    "def transform1(k):\n",
    "    for i in range(0,10):\n",
    "        if k[i] == 0:\n",
    "            k[i] = ' '\n",
    "        if k[i] == 1:\n",
    "            k[i] = '*'\n",
    "    return k"
   ]
  },
  {
   "cell_type": "code",
   "execution_count": 3,
   "metadata": {},
   "outputs": [],
   "source": [
    "def transform2(k):\n",
    "    for i in range(0,10):\n",
    "        if k[i] == 0:\n",
    "            k[i] = '*'\n",
    "        if k[i] == 1:\n",
    "            k[i] = '0'\n",
    "    return k"
   ]
  },
  {
   "cell_type": "code",
   "execution_count": 4,
   "metadata": {},
   "outputs": [],
   "source": [
    "def repetition(k):\n",
    "    for h in k:\n",
    "        print(h, end = ' ')\n",
    "    print()"
   ]
  },
  {
   "cell_type": "code",
   "execution_count": 5,
   "metadata": {},
   "outputs": [],
   "source": [
    "def ninety_degrees_left():\n",
    "    for i in range(0,10):\n",
    "       print(k1[9-i], end = ' ')\n",
    "       print(k2[9-i], end = ' ')\n",
    "       print(k3[9-i], end = ' ')\n",
    "       print(k4[9-i], end = ' ')\n",
    "       print(k5[9-i], end = ' ')\n",
    "       print(k6[9-i], end = ' ')\n",
    "       print(k7[9-i], end = ' ')\n",
    "       print(k8[9-i], end = ' ')\n",
    "       print(k9[9-i], end = ' ')\n",
    "       print(k10[9-i])"
   ]
  },
  {
   "cell_type": "code",
   "execution_count": 6,
   "metadata": {},
   "outputs": [],
   "source": [
    "def size(s):\n",
    "    for h in s:\n",
    "        print(str(h)*number, end = ' ')\n",
    "    print()"
   ]
  },
  {
   "cell_type": "code",
   "execution_count": 7,
   "metadata": {},
   "outputs": [
    {
     "name": "stdout",
     "output_type": "stream",
     "text": [
      "                    \n",
      "      * * * *       \n",
      "    *         *     \n",
      "    *   * *   *     \n",
      "    *         *     \n",
      "    * *     * *     \n",
      "      * * * *       \n",
      "    *         *     \n",
      "      * * * *       \n",
      "                    \n",
      "                   \n",
      "                   \n",
      "    * * * *   *    \n",
      "  *       * *   *  \n",
      "  *   *     *   *  \n",
      "  *   *     *   *  \n",
      "  *       * *   *  \n",
      "    * * * *   *    \n",
      "                   \n",
      "                   \n",
      "Write a number: 5\n",
      "                                                            \n",
      "                  ***** ***** ***** *****                   \n",
      "            *****                         *****             \n",
      "            *****       ***** *****       *****             \n",
      "            *****                         *****             \n",
      "            ***** *****             ***** *****             \n",
      "                  ***** ***** ***** *****                   \n",
      "            *****                         *****             \n",
      "                  ***** ***** ***** *****                   \n",
      "                                                            \n"
     ]
    }
   ],
   "source": [
    "if __name__ == '__main__':\n",
    "    transform1(k1)\n",
    "    transform1(k2)\n",
    "    transform1(k3)\n",
    "    transform1(k4)\n",
    "    transform1(k5)\n",
    "    transform1(k6)\n",
    "    transform1(k7)\n",
    "    transform1(k8)\n",
    "    transform1(k9)\n",
    "    transform1(k10)\n",
    "    transform2(k1)\n",
    "    transform2(k2)\n",
    "    transform2(k3)\n",
    "    transform2(k4)\n",
    "    transform2(k5)\n",
    "    transform2(k6)\n",
    "    transform2(k7)\n",
    "    transform2(k8)\n",
    "    transform2(k9)\n",
    "    transform2(k10)\n",
    "    repetition(k1)\n",
    "    repetition(k2)\n",
    "    repetition(k3)\n",
    "    repetition(k4)\n",
    "    repetition(k5)\n",
    "    repetition(k6)\n",
    "    repetition(k7)\n",
    "    repetition(k8)\n",
    "    repetition(k9)\n",
    "    repetition(k10)\n",
    "    ninety_degrees_left()\n",
    "    number = int(input(\"Write a number: \"))\n",
    "    size(k1)\n",
    "    size(k2)\n",
    "    size(k3)\n",
    "    size(k4)\n",
    "    size(k5)\n",
    "    size(k6)\n",
    "    size(k7)\n",
    "    size(k8)\n",
    "    size(k9)\n",
    "    size(k10)\n",
    "\n",
    "    "
   ]
  },
  {
   "cell_type": "code",
   "execution_count": null,
   "metadata": {},
   "outputs": [],
   "source": []
  },
  {
   "cell_type": "code",
   "execution_count": null,
   "metadata": {},
   "outputs": [],
   "source": []
  }
 ],
 "metadata": {
  "kernelspec": {
   "display_name": "Python 3",
   "language": "python",
   "name": "python3"
  },
  "language_info": {
   "codemirror_mode": {
    "name": "ipython",
    "version": 3
   },
   "file_extension": ".py",
   "mimetype": "text/x-python",
   "name": "python",
   "nbconvert_exporter": "python",
   "pygments_lexer": "ipython3",
   "version": "3.8.5"
  }
 },
 "nbformat": 4,
 "nbformat_minor": 2
}
