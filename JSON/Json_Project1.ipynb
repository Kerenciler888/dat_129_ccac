{
 "cells": [
  {
   "cell_type": "code",
   "execution_count": null,
   "metadata": {},
   "outputs": [],
   "source": [
    "import json\n",
    "alv_dictionary = {}\n",
    "alv_dictionary['Red'] = ['This chakra represents your security and your power base, Poon says. It determines your ability to feel calm, safe, grounded, and secure. It’s also where you’re able to pull in energy and money and manifest your desires.']\n",
    "alv_dictionary['Orange'] = ['This chakra governs your emotions, your creativity, sensitivity, sexuality, intimacy, emotional well-being, and self-expression, Poon says. Often, the sacral chakra needs to be cleared of stuck energy from traumas and pent-up emotions to heighten your creativity and ability to express your true self.']\n",
    "alv_dictionary['Yellow'] = ['The solar plexus chakra is all about personal power, self-esteem, and confidence. The color yellow represents the ability to tap into the light of a thousand suns that exists within you, Schieffelin says. Focusing on the color yellow in the upper part of your abdomen can help you to feel strong, confident, motivated, and powerful. Poon adds that you can also eat yellow-colored foods to help you tap into the energy of this chakra.']\n",
    "alv_dictionary['Green'] = ['Although pink or red might logically be the first colors that come to mind when you think of the heart chakra, this energetic area is actually associated with green. This chakra represents the ability to give and receive love, compassion, expansion, empathy, service to others, kindness, health, and healing, Poon says. We experience loss, regret, pain, low self-love, and low self-worth when this chakra is imbalanced.']\n",
    "alv_dictionary['Blue'] = ['This chakra is all about self-expression and clear communication, Schieffelin says. People often hold back from speaking their truth for fear that they may face judgment or rejection. And it doesn’t just have to be your verbal communication. Writing is also governed by the throat chakra as well.']\n",
    "alv_dictionary['Indigo/purple'] = ['Purple is a very mystical and magical color that represents wisdom, Schieffelin says. The third eye is all about connecting to your intuition, inner vision, and higher consciousness. Having a clear and open third-eye chakra can help you to see the world in a whole new way. Some things you can do to unleash your inner psychic powers include wearing the color of the chakra, practicing Kundalini yoga, using sound healing, or sniffing some frankincense essential oil.']\n",
    "alv_dictionary['Purple/violet'] = ['Unlike the other chakras, the crown chakra isn’t actually on your body. It’s located just above your head and radiates infinitely upward and outward, connecting you to your soul, higher self, purpose, the universe, source and the divine, Poon says. It’s all about purity, enlightenment, and higher states of consciousness, Schieffelin adds.']\n",
    "\n",
    "print(json.dumps(alv_dictionary))\n",
    "\n",
    "with open('alev_dictionary.json', 'w') as chakra_colors:\n",
    "    chakra_colors.write(json.dumps(alv_dictionary))"
   ]
  }
 ],
 "metadata": {
  "kernelspec": {
   "display_name": "Python 3",
   "language": "python",
   "name": "python3"
  },
  "language_info": {
   "codemirror_mode": {
    "name": "ipython",
    "version": 3
   },
   "file_extension": ".py",
   "mimetype": "text/x-python",
   "name": "python",
   "nbconvert_exporter": "python",
   "pygments_lexer": "ipython3",
   "version": "3.8.5"
  }
 },
 "nbformat": 4,
 "nbformat_minor": 4
}
