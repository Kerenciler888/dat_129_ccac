{
 "cells": [
  {
   "cell_type": "code",
   "execution_count": null,
   "metadata": {},
   "outputs": [],
   "source": [
    "from csv import DictReader\n",
    "\n",
    "olympic_summary = {'incident_count':0, 'Age':{}, 'Country':{}, 'Event':{}}\n",
    "\n",
    "\n",
    "with open(\"athlete_events.csv\") as olympicfile:\n",
    "    dreader = DictReader(olympicfile)\n",
    "    print(dreader.fieldnames)\n",
    "    for record in dreader:\n",
    "        olympic_summary['incident_count'] += 1\n",
    "        if record['Age'] not in olympic_summary['Age']:\n",
    "            olympic_summary['Age'][record['Age']] = 1\n",
    "        else:\n",
    "            olympic_summary['Age'][record['Age']] += 1\n",
    "            \n",
    "        if record['Team'] not in olympic_summary['Country']:\n",
    "           olympic_summary['Country'][record['Team']] = 1\n",
    "        else:\n",
    "           olympic_summary['Country'][record['Team']] += 1\n",
    "                        \n",
    "        #if record['Event'] not in olympic_summary['Event']:\n",
    "          #  olympic_summary['Event'][record['Event']] = 1\n",
    "       # else:\n",
    "          #  olympic_summary['Event'][record['Event']] += 1\n",
    "            \n",
    "print('record summary', olympic_summary)        \n",
    "        #print(record)\n",
    "        #print(record['Name'])\n",
    "        #print(record['Team'])\n",
    "        #print(record['Event'])"
   ]
  },
  {
   "cell_type": "code",
   "execution_count": null,
   "metadata": {},
   "outputs": [],
   "source": [
    "for event in sorted(olympic_summary['Event']):\n",
    "    print(event)"
   ]
  },
  {
   "cell_type": "code",
   "execution_count": null,
   "metadata": {},
   "outputs": [],
   "source": [
    "for age in sorted(olympic_summary['Age']):\n",
    "    print(age, ':', olympic_summary['Age'][age] )"
   ]
  }
 ],
 "metadata": {
  "kernelspec": {
   "display_name": "Python 3",
   "language": "python",
   "name": "python3"
  },
  "language_info": {
   "codemirror_mode": {
    "name": "ipython",
    "version": 3
   },
   "file_extension": ".py",
   "mimetype": "text/x-python",
   "name": "python",
   "nbconvert_exporter": "python",
   "pygments_lexer": "ipython3",
   "version": "3.8.5"
  }
 },
 "nbformat": 4,
 "nbformat_minor": 4
}
