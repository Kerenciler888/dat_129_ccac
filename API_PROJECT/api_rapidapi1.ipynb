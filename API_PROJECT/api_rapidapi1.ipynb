{
 "cells": [
  {
   "cell_type": "code",
   "execution_count": null,
   "metadata": {},
   "outputs": [],
   "source": [
    "import requests, json, os\n",
    "\n",
    "API_KEY = os.environ.get('API_KEY_rapidapi')\n",
    "\n",
    "response = requests.get('https://iata-and-icao-codes.p.rapidapi.com/airlines',\n",
    "headers={\n",
    "    \"accept\": \"application/json\",\n",
    "    \"x-rapidapi-key\": API_KEY,\n",
    "    \"x-rapidapi-host\": 'iata-and-icao-codes.p.rapidapi.com',\n",
    "})\n",
    "print(response.status_code)\n",
    "print(response.text)"
   ]
  },
  {
   "cell_type": "code",
   "execution_count": null,
   "metadata": {},
   "outputs": [],
   "source": [
    "import requests, json\n",
    "\n",
    "response = requests.get('https://iata-and-icao-codes.p.rapidapi.com/airlines',\n",
    "headers={\n",
    "    \"accept\": \"application/json\",\n",
    "    \"x-rapidapi-key\": API_KEY,\n",
    "    \"x-rapidapi-host\": \"iata-and-icao-codes.p.rapidapi.com\",\n",
    "})\n",
    "result = json.loads(response.text)\n",
    "print(type(result))\n",
    "for res in result:\n",
    "    print('**************RECALL**************')\n",
    "    print(res)"
   ]
  },
  {
   "cell_type": "code",
   "execution_count": null,
   "metadata": {},
   "outputs": [],
   "source": [
    "for i in range(0, len(result)-1):\n",
    "    print(result[i]['iata_code'], end = ' ')\n",
    "    print(result[i]['name'], end = '--')\n",
    "    print(result[i]['icao_code'])"
   ]
  }
 ],
 "metadata": {
  "kernelspec": {
   "display_name": "Python 3",
   "language": "python",
   "name": "python3"
  },
  "language_info": {
   "codemirror_mode": {
    "name": "ipython",
    "version": 3
   },
   "file_extension": ".py",
   "mimetype": "text/x-python",
   "name": "python",
   "nbconvert_exporter": "python",
   "pygments_lexer": "ipython3",
   "version": "3.8.5"
  }
 },
 "nbformat": 4,
 "nbformat_minor": 4
}
